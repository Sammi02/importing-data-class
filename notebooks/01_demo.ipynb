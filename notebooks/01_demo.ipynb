{
 "cells": [
  {
   "cell_type": "markdown",
   "id": "76c1aee9",
   "metadata": {},
   "source": [
    "# In-class Demo: Importing Data\n",
    "\n",
    "This notebook demonstrates reading a variety of data sources into Python/Pandas.\n"
   ]
  },
  {
   "cell_type": "code",
   "execution_count": null,
   "id": "0c1ee27a",
   "metadata": {},
   "outputs": [],
   "source": [
    "from pathlib import Path\n",
    "import pandas as pd, json\n",
    "BASE = Path().resolve().parents[1] if (Path().resolve().name == \"notebooks\") else Path().resolve()\n",
    "DATA = BASE / \"data\" / \"demo\"\n",
    "print(\"DATA =\", DATA)\n"
   ]
  },
  {
   "cell_type": "code",
   "execution_count": null,
   "id": "5589cd40",
   "metadata": {},
   "outputs": [],
   "source": [
    "# --- CSV\n",
    "csv_path = DATA / \"csv\" / \"students.csv\"\n",
    "df_csv = pd.read_csv(csv_path)\n",
    "print(df_csv.head())\n",
    "# Common args: sep, header, index_col, nrows, encoding, usecols, dtype, compression\n",
    "df_subset = pd.read_csv(csv_path, usecols=[\"id\",\"name\"], dtype={\"id\":\"int64\"})\n",
    "print(df_subset.dtypes)"
   ]
  },
  {
   "cell_type": "code",
   "execution_count": null,
   "id": "f896dd87",
   "metadata": {},
   "outputs": [],
   "source": [
    "# --- TSV (tab-delimited)\n",
    "tsv_path = DATA / \"tsv\" / \"sales.tsv\"\n",
    "df_tsv = pd.read_csv(tsv_path, sep=\"\\t\")\n",
    "print(df_tsv.head())"
   ]
  },
  {
   "cell_type": "code",
   "execution_count": null,
   "id": "22564fef",
   "metadata": {},
   "outputs": [],
   "source": [
    "# --- Compressed CSV (gzip)\n",
    "gz_path = DATA / \"csv_gz\" / \"students.csv.gz\"\n",
    "df_gz = pd.read_csv(gz_path, compression=\"gzip\")\n",
    "print(df_gz.head())"
   ]
  },
  {
   "cell_type": "code",
   "execution_count": null,
   "id": "9e50c134",
   "metadata": {},
   "outputs": [],
   "source": [
    "# --- Excel (may require 'openpyxl')\n",
    "excel_path = DATA / \"excel\" / \"grades.xlsx\"\n",
    "try:\n",
    "    df_excel = pd.read_excel(excel_path)  # default: first sheet\n",
    "    print(df_excel.head())\n",
    "    all_sheets = pd.read_excel(excel_path, sheet_name=None)\n",
    "    print(\"Sheets:\", list(all_sheets))\n",
    "except Exception as e:\n",
    "    print(\"Excel read failed:\", e)"
   ]
  },
  {
   "cell_type": "code",
   "execution_count": null,
   "id": "8b3f2cb0",
   "metadata": {},
   "outputs": [],
   "source": [
    "# --- JSON (flat)\n",
    "import json\n",
    "people_path = DATA / \"json\" / \"people.json\"\n",
    "with open(people_path, \"r\", encoding=\"utf-8\") as f:\n",
    "    people = json.load(f)\n",
    "print(people[0][\"name\"])\n",
    "\n",
    "# --- JSON (nested) with json_normalize\n",
    "nested_path = DATA / \"json\" / \"orders_nested.json\"\n",
    "with open(nested_path, \"r\", encoding=\"utf-8\") as f:\n",
    "    orders = json.load(f)\n",
    "from pandas import json_normalize\n",
    "flat = json_normalize(orders, record_path=\"items\", meta=[\"order_id\", [\"customer\",\"id\"], [\"customer\",\"name\"]])\n",
    "print(flat.head())"
   ]
  },
  {
   "cell_type": "code",
   "execution_count": null,
   "id": "61fcf112",
   "metadata": {},
   "outputs": [],
   "source": [
    "# --- Plain text with context manager\n",
    "poem_path = DATA / \"text\" / \"poem.txt\"\n",
    "with open(poem_path, \"r\", encoding=\"utf-8\") as f:\n",
    "    text = f.read()\n",
    "print(text.splitlines()[:2])  # first 2 lines\n",
    "with open(poem_path, \"r\", encoding=\"utf-8\") as f:\n",
    "    lines = f.readlines()\n",
    "print(\"line count:\", len(lines))"
   ]
  },
  {
   "cell_type": "code",
   "execution_count": null,
   "id": "40b3ec71",
   "metadata": {},
   "outputs": [],
   "source": [
    "# --- HTML tables (requires lxml)\n",
    "html_path = DATA / \"html\" / \"tables.html\"\n",
    "tables = pd.read_html(str(html_path))  # returns a list of DataFrames\n",
    "print(\"Number of tables:\", len(tables))\n",
    "tables[0].head()"
   ]
  }
 ],
 "metadata": {},
 "nbformat": 4,
 "nbformat_minor": 5
}